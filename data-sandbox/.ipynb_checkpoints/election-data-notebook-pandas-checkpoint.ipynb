{
 "cells": [
  {
   "cell_type": "code",
   "execution_count": 8,
   "id": "75df8f9e-bbaa-463c-8161-1eee7af0097f",
   "metadata": {},
   "outputs": [],
   "source": [
    "import requests as rqst\n",
    "from bs4 import BeautifulSoup as bs\n",
    "import re\n",
    "import pyspark\n",
    "from pyspark.sql import SparkSession\n",
    "from pyspark.conf import SparkConf\n",
    "from pyspark.context import SparkContext\n",
    "from pyspark.sql import functions as F\n",
    "from pyspark.sql.types import *\n",
    "from pyspark.sql.window import Window"
   ]
  },
  {
   "cell_type": "code",
   "execution_count": 9,
   "id": "58c1c4b0-2959-4035-98f8-12d3ba16e77a",
   "metadata": {},
   "outputs": [
    {
     "name": "stderr",
     "output_type": "stream",
     "text": [
      "24/03/06 11:23:46 WARN Utils: Your hostname, Chases-MacBook-Pro.local resolves to a loopback address: 127.0.0.1; using 10.0.0.9 instead (on interface en0)\n",
      "24/03/06 11:23:46 WARN Utils: Set SPARK_LOCAL_IP if you need to bind to another address\n",
      "Setting default log level to \"WARN\".\n",
      "To adjust logging level use sc.setLogLevel(newLevel). For SparkR, use setLogLevel(newLevel).\n",
      "24/03/06 11:23:47 WARN NativeCodeLoader: Unable to load native-hadoop library for your platform... using builtin-java classes where applicable\n"
     ]
    }
   ],
   "source": [
    "conf = SparkConf() \\\n",
    "    .setMaster('local[*]') \\\n",
    "    .setAppName('election-data')\n",
    "\n",
    "sc = SparkContext(conf=conf)\n",
    "\n",
    "spark = SparkSession.builder \\\n",
    "    .appName('election-data') \\\n",
    "    .config(conf=sc.getConf()) \\\n",
    "    .getOrCreate()"
   ]
  },
  {
   "cell_type": "code",
   "execution_count": 10,
   "id": "b6f99797-4a30-499f-b833-55fb1facb443",
   "metadata": {},
   "outputs": [],
   "source": [
    "class SoupScraper:\n",
    "    def __init__(self, html):\n",
    "        self.html = html\n",
    "        self.table_head = []\n",
    "        self.table_body = []\n",
    "        \n",
    "    def scrape(self, html):\n",
    "      elections_html = rqst.get(html)\n",
    "      soup = bs(elections_html.content, \"html.parser\")\n",
    "\n",
    "      # Remove superscripts from html doc\n",
    "      sup_tags = soup.find_all('sup')\n",
    "      for tag in sup_tags:\n",
    "          tag.decompose()\n",
    "\n",
    "      # Get the headers\n",
    "      table_head = soup.thead\n",
    "      row_headers = []\n",
    "      for header in table_head.find_all('tr'):\n",
    "          for header_value in header.find_all('th'):\n",
    "              row_headers.append(header_value.get_text(strip=True))    \n",
    "      self.table_head = row_headers\n",
    "\n",
    "      # Get the table values\n",
    "      table_body = soup.tbody\n",
    "      table_values = []\n",
    "      for row in table_body.find_all('tr'):\n",
    "          td_tags = row.find_all('td')\n",
    "          for value in td_tags:\n",
    "              td_val = [value.get_text(strip=True) for value in td_tags]\n",
    "          table_values.append(td_val)\n",
    "      self.table_body = table_values"
   ]
  },
  {
   "cell_type": "code",
   "execution_count": 11,
   "id": "733372c1-669b-43f2-a980-fa677efee544",
   "metadata": {},
   "outputs": [],
   "source": [
    "elections_data = SoupScraper(\"https://www.britannica.com/topic/United-States-Presidential-Election-Results-1788863\")"
   ]
  },
  {
   "cell_type": "code",
   "execution_count": 12,
   "id": "85a1869e-d2d8-46b9-87a0-38e46c77170e",
   "metadata": {},
   "outputs": [],
   "source": [
    "elections_data.scrape(elections_data.html)"
   ]
  },
  {
   "cell_type": "code",
   "execution_count": 13,
   "id": "78d05a07-d1c8-44c4-b180-7ed158e66f45",
   "metadata": {},
   "outputs": [],
   "source": [
    "def is_year(input_string):\n",
    "    pattern = r'^\\d{4}$'\n",
    "    if re.match(pattern, input_string):\n",
    "        return True\n",
    "    else:\n",
    "        return False\n",
    "\n",
    "def insert_years(table):\n",
    "    for idx, row in enumerate(table):\n",
    "        if idx > 0:\n",
    "            prev_row = idx - 1\n",
    "        else: \n",
    "            prev_row = 0\n",
    "        if is_year(row[0]) == False:\n",
    "            row.insert(0, table[prev_row][0])"
   ]
  },
  {
   "cell_type": "code",
   "execution_count": 14,
   "id": "bc13dbb5-2d9a-4524-adef-1a9c5f060564",
   "metadata": {},
   "outputs": [],
   "source": [
    "# Format the election data\n",
    "insert_years(elections_data.table_body)"
   ]
  },
  {
   "cell_type": "code",
   "execution_count": 15,
   "id": "e70acb25-71e3-433e-ab6e-37cb403bf4cc",
   "metadata": {},
   "outputs": [],
   "source": [
    "df = spark.createDataFrame(data = elections_data.table_body, schema = elections_data.table_head)"
   ]
  },
  {
   "cell_type": "code",
   "execution_count": 16,
   "id": "bf9acec2-ea5c-4efe-a9fe-a4f574bbd90e",
   "metadata": {},
   "outputs": [
    {
     "name": "stdout",
     "output_type": "stream",
     "text": [
      "root\n",
      " |-- year: string (nullable = true)\n",
      " |-- candidate: string (nullable = true)\n",
      " |-- political party: string (nullable = true)\n",
      " |-- electoral votes: string (nullable = true)\n",
      " |-- popular votes: string (nullable = true)\n",
      " |-- popular percentage: string (nullable = true)\n",
      "\n"
     ]
    }
   ],
   "source": [
    "df.printSchema()"
   ]
  },
  {
   "cell_type": "code",
   "execution_count": 17,
   "id": "81bb6262-1266-4542-99e0-79fa592fbc96",
   "metadata": {},
   "outputs": [
    {
     "name": "stderr",
     "output_type": "stream",
     "text": [
      "                                                                                \r"
     ]
    },
    {
     "name": "stdout",
     "output_type": "stream",
     "text": [
      "+----+-----------------+--------------------+---------------+-------------+------------------+\n",
      "|year|        candidate|     political party|electoral votes|popular votes|popular percentage|\n",
      "+----+-----------------+--------------------+---------------+-------------+------------------+\n",
      "|1789|George Washington|no formally organ...|             69|             |                  |\n",
      "|1789|       John Adams|                    |             34|             |                  |\n",
      "|1789|         John Jay|                    |              9|             |                  |\n",
      "|1789|    R.H. Harrison|                    |              6|             |                  |\n",
      "|1789|    John Rutledge|                    |              6|             |                  |\n",
      "|1789|     John Hancock|                    |              4|             |                  |\n",
      "|1789|   George Clinton|                    |              3|             |                  |\n",
      "|1789|Samuel Huntington|                    |              2|             |                  |\n",
      "|1789|      John Milton|                    |              2|             |                  |\n",
      "|1789|  James Armstrong|                    |              1|             |                  |\n",
      "|1789| Benjamin Lincoln|                    |              1|             |                  |\n",
      "|1789|   Edward Telfair|                    |              1|             |                  |\n",
      "|1789|        not voted|                    |             44|             |                  |\n",
      "|1792|George Washington|          Federalist|            132|             |                  |\n",
      "|1792|       John Adams|          Federalist|             77|             |                  |\n",
      "|1792|   George Clinton|Democratic-Republ...|             50|             |                  |\n",
      "|1792| Thomas Jefferson|                    |              4|             |                  |\n",
      "|1792|       Aaron Burr|                    |              1|             |                  |\n",
      "|1796|       John Adams|          Federalist|             71|             |                  |\n",
      "|1796| Thomas Jefferson|Democratic-Republ...|             68|             |                  |\n",
      "+----+-----------------+--------------------+---------------+-------------+------------------+\n",
      "only showing top 20 rows\n",
      "\n"
     ]
    }
   ],
   "source": [
    "df.show()"
   ]
  }
 ],
 "metadata": {
  "kernelspec": {
   "display_name": "Python 3 (ipykernel)",
   "language": "python",
   "name": "python3"
  },
  "language_info": {
   "codemirror_mode": {
    "name": "ipython",
    "version": 3
   },
   "file_extension": ".py",
   "mimetype": "text/x-python",
   "name": "python",
   "nbconvert_exporter": "python",
   "pygments_lexer": "ipython3",
   "version": "3.11.7"
  }
 },
 "nbformat": 4,
 "nbformat_minor": 5
}
