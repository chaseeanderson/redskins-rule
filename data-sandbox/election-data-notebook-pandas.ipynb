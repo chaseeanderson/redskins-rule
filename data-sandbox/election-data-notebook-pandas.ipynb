{
 "cells": [
  {
   "cell_type": "code",
   "execution_count": 4,
   "id": "75df8f9e-bbaa-463c-8161-1eee7af0097f",
   "metadata": {},
   "outputs": [],
   "source": [
    "import requests as rqst\n",
    "from bs4 import BeautifulSoup as bs\n",
    "import re\n",
    "import pyarrow.csv as pv\n",
    "import pyarrow.parquet as pq\n",
    "import pandas as pd"
   ]
  },
  {
   "cell_type": "code",
   "execution_count": 5,
   "id": "b6f99797-4a30-499f-b833-55fb1facb443",
   "metadata": {},
   "outputs": [],
   "source": [
    "class SoupScraper:\n",
    "    def __init__(self, html):\n",
    "        self.html = html\n",
    "        self.table_head = []\n",
    "        self.table_body = []\n",
    "        \n",
    "    def scrape(self, html):\n",
    "      elections_html = rqst.get(html)\n",
    "      soup = bs(elections_html.content, \"html.parser\")\n",
    "\n",
    "      # Remove superscripts from html doc\n",
    "      sup_tags = soup.find_all('sup')\n",
    "      for tag in sup_tags:\n",
    "          tag.decompose()\n",
    "\n",
    "      # Get the headers\n",
    "      table_head = soup.thead\n",
    "      row_headers = []\n",
    "      for header in table_head.find_all('tr'):\n",
    "          for header_value in header.find_all('th'):\n",
    "              row_headers.append(header_value.get_text(strip=True))    \n",
    "      self.table_head = row_headers\n",
    "\n",
    "      # Get the table values\n",
    "      table_body = soup.tbody\n",
    "      table_values = []\n",
    "      for row in table_body.find_all('tr'):\n",
    "          td_tags = row.find_all('td')\n",
    "          for value in td_tags:\n",
    "              td_val = [value.get_text(strip=True) for value in td_tags]\n",
    "          table_values.append(td_val)\n",
    "      self.table_body = table_values"
   ]
  },
  {
   "cell_type": "code",
   "execution_count": 6,
   "id": "733372c1-669b-43f2-a980-fa677efee544",
   "metadata": {},
   "outputs": [],
   "source": [
    "elections_data = SoupScraper(\"https://www.britannica.com/topic/United-States-Presidential-Election-Results-1788863\")"
   ]
  },
  {
   "cell_type": "code",
   "execution_count": 7,
   "id": "85a1869e-d2d8-46b9-87a0-38e46c77170e",
   "metadata": {},
   "outputs": [],
   "source": [
    "elections_data.scrape(elections_data.html)"
   ]
  },
  {
   "cell_type": "code",
   "execution_count": 8,
   "id": "78d05a07-d1c8-44c4-b180-7ed158e66f45",
   "metadata": {},
   "outputs": [],
   "source": [
    "def is_year(input_string):\n",
    "    pattern = r'^\\d{4}$'\n",
    "    if re.match(pattern, input_string):\n",
    "        return True\n",
    "    else:\n",
    "        return False\n",
    "\n",
    "def insert_years(table):\n",
    "    for idx, row in enumerate(table):\n",
    "        if idx > 0:\n",
    "            prev_row = idx - 1\n",
    "        else: \n",
    "            prev_row = 0\n",
    "        if is_year(row[0]) == False:\n",
    "            row.insert(0, table[prev_row][0])"
   ]
  },
  {
   "cell_type": "code",
   "execution_count": 9,
   "id": "bc13dbb5-2d9a-4524-adef-1a9c5f060564",
   "metadata": {},
   "outputs": [],
   "source": [
    "# Format the election data\n",
    "insert_years(elections_data.table_body)"
   ]
  },
  {
   "cell_type": "code",
   "execution_count": 10,
   "id": "f37f01cf-b0cc-4590-9565-e2c6eacca7bd",
   "metadata": {},
   "outputs": [],
   "source": [
    "df_pandas = pd.DataFrame(elections_data.table_body, columns=elections_data.table_head)"
   ]
  },
  {
   "cell_type": "code",
   "execution_count": 12,
   "id": "6bc43b06-dbfd-479a-8671-fe54560671cc",
   "metadata": {},
   "outputs": [
    {
     "ename": "TypeError",
     "evalue": "Cannot convert DataFrame to pyarrow.lib.NativeFile",
     "output_type": "error",
     "traceback": [
      "\u001b[0;31m---------------------------------------------------------------------------\u001b[0m",
      "\u001b[0;31mTypeError\u001b[0m                                 Traceback (most recent call last)",
      "Cell \u001b[0;32mIn[12], line 1\u001b[0m\n\u001b[0;32m----> 1\u001b[0m file \u001b[38;5;241m=\u001b[39m \u001b[43mpv\u001b[49m\u001b[38;5;241;43m.\u001b[39;49m\u001b[43mread_csv\u001b[49m\u001b[43m(\u001b[49m\u001b[43mdf_pandas\u001b[49m\u001b[43m)\u001b[49m\n",
      "File \u001b[0;32m~/code/data-eng/projects/redskins-rule/python-venv/lib/python3.11/site-packages/pyarrow/_csv.pyx:1256\u001b[0m, in \u001b[0;36mpyarrow._csv.read_csv\u001b[0;34m()\u001b[0m\n",
      "File \u001b[0;32m~/code/data-eng/projects/redskins-rule/python-venv/lib/python3.11/site-packages/pyarrow/_csv.pyx:1115\u001b[0m, in \u001b[0;36mpyarrow._csv._get_reader\u001b[0;34m()\u001b[0m\n",
      "File \u001b[0;32m~/code/data-eng/projects/redskins-rule/python-venv/lib/python3.11/site-packages/pyarrow/io.pxi:2058\u001b[0m, in \u001b[0;36mpyarrow.lib.get_input_stream\u001b[0;34m()\u001b[0m\n",
      "File \u001b[0;32m~/code/data-eng/projects/redskins-rule/python-venv/lib/python3.11/site-packages/pyarrow/io.pxi:2031\u001b[0m, in \u001b[0;36mpyarrow.lib.get_native_file\u001b[0;34m()\u001b[0m\n",
      "\u001b[0;31mTypeError\u001b[0m: Cannot convert DataFrame to pyarrow.lib.NativeFile"
     ]
    }
   ],
   "source": [
    "file = pv.read_csv(df_pandas)"
   ]
  }
 ],
 "metadata": {
  "kernelspec": {
   "display_name": "Python 3 (ipykernel)",
   "language": "python",
   "name": "python3"
  },
  "language_info": {
   "codemirror_mode": {
    "name": "ipython",
    "version": 3
   },
   "file_extension": ".py",
   "mimetype": "text/x-python",
   "name": "python",
   "nbconvert_exporter": "python",
   "pygments_lexer": "ipython3",
   "version": "3.11.7"
  }
 },
 "nbformat": 4,
 "nbformat_minor": 5
}
